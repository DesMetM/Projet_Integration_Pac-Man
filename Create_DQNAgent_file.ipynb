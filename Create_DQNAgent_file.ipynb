{
 "cells": [
  {
   "cell_type": "code",
   "execution_count": 1,
   "metadata": {},
   "outputs": [
    {
     "name": "stdout",
     "output_type": "stream",
     "text": [
      "pygame 1.9.6\n",
      "Hello from the pygame community. https://www.pygame.org/contribute.html\n"
     ]
    }
   ],
   "source": [
    "from IA.agent_dqn import AgentDQN\n",
    "from IA.agent_ddqn import AgentDDQN\n",
    "import os\n",
    "from IA.environnement import PacEnv\n",
    "from modele.jeu import Jeu\n",
    "import pygame"
   ]
  },
  {
   "cell_type": "code",
   "execution_count": 2,
   "metadata": {},
   "outputs": [],
   "source": [
    "from IA.reseau_neurones.network import Reseau\n",
    "from IA.reseau_neurones.layers import FCLayer, ActivationLayer\n",
    "from IA.reseau_neurones.activations import bent_identity,bent_identity_derivee, relu, relu_derivee, identity, identity_derivee\n",
    "from IA.reseau_neurones.losses import mse, mse_derivee"
   ]
  },
  {
   "cell_type": "code",
   "execution_count": 3,
   "metadata": {},
   "outputs": [],
   "source": [
    "pygame.font.init()\n",
    "env = PacEnv(Jeu(30))"
   ]
  },
  {
   "cell_type": "code",
   "execution_count": 4,
   "metadata": {},
   "outputs": [
    {
     "data": {
      "text/plain": [
       "318"
      ]
     },
     "execution_count": 4,
     "metadata": {},
     "output_type": "execute_result"
    }
   ],
   "source": [
    "len(env.observation_space[0][0])"
   ]
  },
  {
   "cell_type": "code",
   "execution_count": 5,
   "metadata": {},
   "outputs": [],
   "source": [
    "agent = AgentDDQN(318,4)"
   ]
  },
  {
   "cell_type": "code",
   "execution_count": 6,
   "metadata": {},
   "outputs": [],
   "source": [
    "reseau = Reseau(mse, mse_derivee)\n",
    "\n",
    "reseau.add(FCLayer(agent.state_size,32))\n",
    "reseau.add(ActivationLayer(relu,relu_derivee))\n",
    "\n",
    "reseau.add(FCLayer(32,32))\n",
    "reseau.add(ActivationLayer(relu,relu_derivee))\n",
    "\n",
    "reseau.add(FCLayer(32,32))\n",
    "reseau.add(ActivationLayer(relu,relu_derivee))\n",
    "\n",
    "\n",
    "reseau.add(FCLayer(32,agent.action_size))\n",
    "reseau.add(ActivationLayer(bent_identity,bent_identity_derivee))\n",
    "\n",
    "agent.reseau = reseau"
   ]
  },
  {
   "cell_type": "code",
   "execution_count": 7,
   "metadata": {},
   "outputs": [],
   "source": [
    "name = \"new_reward\" + \"-inator\"\n",
    "output_dir = \"ressource/IA/\" + name"
   ]
  },
  {
   "cell_type": "code",
   "execution_count": 8,
   "metadata": {},
   "outputs": [],
   "source": [
    "if not os.path.exists(output_dir):\n",
    "    os.makedirs(output_dir)"
   ]
  },
  {
   "cell_type": "code",
   "execution_count": 9,
   "metadata": {},
   "outputs": [],
   "source": [
    "agent.save(output_dir + \"/\" + name + \"_0000000.hdf5\")"
   ]
  },
  {
   "cell_type": "code",
   "execution_count": null,
   "metadata": {},
   "outputs": [],
   "source": []
  }
 ],
 "metadata": {
  "kernelspec": {
   "display_name": "Python 3",
   "language": "python",
   "name": "python3"
  },
  "language_info": {
   "codemirror_mode": {
    "name": "ipython",
    "version": 3
   },
   "file_extension": ".py",
   "mimetype": "text/x-python",
   "name": "python",
   "nbconvert_exporter": "python",
   "pygments_lexer": "ipython3",
   "version": "3.7.7"
  }
 },
 "nbformat": 4,
 "nbformat_minor": 4
}
